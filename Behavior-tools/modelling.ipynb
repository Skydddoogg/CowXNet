{
 "cells": [
  {
   "cell_type": "markdown",
   "metadata": {},
   "source": [
    "# Import dependencies"
   ]
  },
  {
   "cell_type": "code",
   "execution_count": null,
   "metadata": {},
   "outputs": [],
   "source": [
    "import pandas as pd\n",
    "import numpy as np\n",
    "from sklearn.svm import SVC  \n",
    "from sklearn.model_selection import train_test_split  \n",
    "import matplotlib.pyplot as plt  \n",
    "from sklearn.metrics import classification_report, confusion_matrix\n",
    "from sklearn.model_selection import StratifiedKFold, KFold\n",
    "from sklearn import preprocessing\n",
    "from sklearn.model_selection import GridSearchCV\n",
    "from sklearn.metrics import accuracy_score, f1_score, confusion_matrix\n",
    "import collections\n",
    "%matplotlib inline"
   ]
  },
  {
   "cell_type": "markdown",
   "metadata": {},
   "source": [
    "# Declare configurations"
   ]
  },
  {
   "cell_type": "code",
   "execution_count": 21,
   "metadata": {},
   "outputs": [],
   "source": [
    "cows = ['Cow_A', 'Cow_B', 'Cow_C']\n",
    "folder2save = 'extracted_features/'\n",
    "folder2save_heat_labels = 'heat_labels/'\n",
    "scorer = 'sky'\n",
    "cow2model = ['Cow_A', 'Cow_B', 'Cow_C']\n",
    "feature_types = ['ExtractedFeatures_Sky_', 'Mechanics_previous_Features_Sky_', 'CoordinateFeatures_Sky_']"
   ]
  },
  {
   "cell_type": "markdown",
   "metadata": {},
   "source": [
    "# Read extracted feature files"
   ]
  },
  {
   "cell_type": "code",
   "execution_count": 29,
   "metadata": {},
   "outputs": [],
   "source": [
    "extracted_features = collections.defaultdict(dict)\n",
    "for cow in cows:\n",
    "    for feature_type in feature_types:\n",
    "        extracted_features[cow][feature_type] = pd.read_hdf(folder2save + feature_type + cow + '.h5')"
   ]
  },
  {
   "cell_type": "markdown",
   "metadata": {},
   "source": [
    "# Read label files"
   ]
  },
  {
   "cell_type": "code",
   "execution_count": 56,
   "metadata": {},
   "outputs": [],
   "source": [
    "heat_labels = dict()\n",
    "for cow in cows:\n",
    "    heat_labels[cow] = pd.read_csv(folder2save_heat_labels + \"ImpliedHeatLabels_\" + scorer + \"_\" + cow + \".csv\", index_col=0)\n",
    "\n",
    "for cow in cows:\n",
    "    for index in heat_labels[cow]['implying'].index:\n",
    "        label = heat_labels[cow]['implying'][index]\n",
    "        if (label == 2) or (label == 3):\n",
    "            heat_labels[cow]['implying'][index] = 1\n",
    "        elif (label == 4):\n",
    "            heat_labels[cow]['implying'][index] = 0"
   ]
  },
  {
   "cell_type": "markdown",
   "metadata": {},
   "source": [
    "# Define computable variables"
   ]
  },
  {
   "cell_type": "code",
   "execution_count": 57,
   "metadata": {},
   "outputs": [
    {
     "name": "stderr",
     "output_type": "stream",
     "text": [
      "/anaconda3/lib/python3.6/site-packages/ipykernel_launcher.py:4: SettingWithCopyWarning: \n",
      "A value is trying to be set on a copy of a slice from a DataFrame\n",
      "\n",
      "See the caveats in the documentation: http://pandas.pydata.org/pandas-docs/stable/indexing.html#indexing-view-versus-copy\n",
      "  after removing the cwd from sys.path.\n"
     ]
    }
   ],
   "source": [
    "for cow in cows:\n",
    "    for feature_type in feature_types:\n",
    "        for feature in extracted_features[cow][feature_type].columns:\n",
    "            extracted_features[cow][feature_type][feature][extracted_features[cow][feature_type][feature] == np.Infinity] = 0"
   ]
  },
  {
   "cell_type": "markdown",
   "metadata": {},
   "source": [
    "# Combine data"
   ]
  },
  {
   "cell_type": "code",
   "execution_count": 58,
   "metadata": {},
   "outputs": [],
   "source": [
    "dataset = dict()\n",
    "for cow in cows:\n",
    "    data2concat = list()\n",
    "    for feature_type in feature_types:\n",
    "        data2concat.append(extracted_features[cow][feature_type])\n",
    "    data2concat.append(heat_labels[cow])\n",
    "    dataset[cow] = pd.concat(data2concat, axis=1)"
   ]
  },
  {
   "cell_type": "code",
   "execution_count": 59,
   "metadata": {},
   "outputs": [
    {
     "data": {
      "text/html": [
       "<div>\n",
       "<style scoped>\n",
       "    .dataframe tbody tr th:only-of-type {\n",
       "        vertical-align: middle;\n",
       "    }\n",
       "\n",
       "    .dataframe tbody tr th {\n",
       "        vertical-align: top;\n",
       "    }\n",
       "\n",
       "    .dataframe thead th {\n",
       "        text-align: right;\n",
       "    }\n",
       "</style>\n",
       "<table border=\"1\" class=\"dataframe\">\n",
       "  <thead>\n",
       "    <tr style=\"text-align: right;\">\n",
       "      <th></th>\n",
       "      <th>nearest_dist_head2head</th>\n",
       "      <th>nearest_cow_head2head</th>\n",
       "      <th>nearest_dist_head2bottom</th>\n",
       "      <th>nearest_cow_head2bottom</th>\n",
       "      <th>nearest_dist_head2body</th>\n",
       "      <th>nearest_cow_head2body</th>\n",
       "      <th>head_appearance</th>\n",
       "      <th>nearest_dist_bottom2head</th>\n",
       "      <th>nearest_cow_bottom2head</th>\n",
       "      <th>nearest_dist_bottom2bottom</th>\n",
       "      <th>...</th>\n",
       "      <th>distance_Body_</th>\n",
       "      <th>velocity_Body_</th>\n",
       "      <th>acceleration_Body_</th>\n",
       "      <th>Coordi_Nose_x</th>\n",
       "      <th>Coordi_Nose_y</th>\n",
       "      <th>Coordi_Bottom_x</th>\n",
       "      <th>Coordi_Bottom_y</th>\n",
       "      <th>Coordi_Body_x</th>\n",
       "      <th>Coordi_Body_y</th>\n",
       "      <th>implying</th>\n",
       "    </tr>\n",
       "  </thead>\n",
       "  <tbody>\n",
       "    <tr>\n",
       "      <th>data/img0000.png</th>\n",
       "      <td>648.901134</td>\n",
       "      <td>3</td>\n",
       "      <td>125.241924</td>\n",
       "      <td>2</td>\n",
       "      <td>138.939669</td>\n",
       "      <td>2</td>\n",
       "      <td>1</td>\n",
       "      <td>574.188793</td>\n",
       "      <td>3</td>\n",
       "      <td>265.719328</td>\n",
       "      <td>...</td>\n",
       "      <td>0.000000</td>\n",
       "      <td>0.000000</td>\n",
       "      <td>0.000000</td>\n",
       "      <td>645.333</td>\n",
       "      <td>289.067</td>\n",
       "      <td>54.400</td>\n",
       "      <td>388.267</td>\n",
       "      <td>234.24</td>\n",
       "      <td>307.20</td>\n",
       "      <td>1</td>\n",
       "    </tr>\n",
       "    <tr>\n",
       "      <th>data/img0250.png</th>\n",
       "      <td>0.000000</td>\n",
       "      <td>0</td>\n",
       "      <td>0.000000</td>\n",
       "      <td>0</td>\n",
       "      <td>0.000000</td>\n",
       "      <td>0</td>\n",
       "      <td>0</td>\n",
       "      <td>0.000000</td>\n",
       "      <td>0</td>\n",
       "      <td>190.097238</td>\n",
       "      <td>...</td>\n",
       "      <td>493.559104</td>\n",
       "      <td>246.779552</td>\n",
       "      <td>123.389776</td>\n",
       "      <td>0.000</td>\n",
       "      <td>0.000</td>\n",
       "      <td>987.733</td>\n",
       "      <td>362.667</td>\n",
       "      <td>719.36</td>\n",
       "      <td>398.08</td>\n",
       "      <td>0</td>\n",
       "    </tr>\n",
       "    <tr>\n",
       "      <th>data/img0251.png</th>\n",
       "      <td>0.000000</td>\n",
       "      <td>0</td>\n",
       "      <td>0.000000</td>\n",
       "      <td>0</td>\n",
       "      <td>0.000000</td>\n",
       "      <td>0</td>\n",
       "      <td>0</td>\n",
       "      <td>0.000000</td>\n",
       "      <td>0</td>\n",
       "      <td>189.471139</td>\n",
       "      <td>...</td>\n",
       "      <td>1.280000</td>\n",
       "      <td>0.426667</td>\n",
       "      <td>0.142222</td>\n",
       "      <td>0.000</td>\n",
       "      <td>0.000</td>\n",
       "      <td>987.733</td>\n",
       "      <td>362.667</td>\n",
       "      <td>719.36</td>\n",
       "      <td>399.36</td>\n",
       "      <td>0</td>\n",
       "    </tr>\n",
       "    <tr>\n",
       "      <th>data/img0252.png</th>\n",
       "      <td>0.000000</td>\n",
       "      <td>0</td>\n",
       "      <td>0.000000</td>\n",
       "      <td>0</td>\n",
       "      <td>0.000000</td>\n",
       "      <td>0</td>\n",
       "      <td>0</td>\n",
       "      <td>0.000000</td>\n",
       "      <td>0</td>\n",
       "      <td>186.080342</td>\n",
       "      <td>...</td>\n",
       "      <td>0.000000</td>\n",
       "      <td>0.000000</td>\n",
       "      <td>0.000000</td>\n",
       "      <td>0.000</td>\n",
       "      <td>0.000</td>\n",
       "      <td>987.733</td>\n",
       "      <td>362.667</td>\n",
       "      <td>719.36</td>\n",
       "      <td>399.36</td>\n",
       "      <td>0</td>\n",
       "    </tr>\n",
       "    <tr>\n",
       "      <th>data/img0253.png</th>\n",
       "      <td>0.000000</td>\n",
       "      <td>0</td>\n",
       "      <td>0.000000</td>\n",
       "      <td>0</td>\n",
       "      <td>0.000000</td>\n",
       "      <td>0</td>\n",
       "      <td>0</td>\n",
       "      <td>0.000000</td>\n",
       "      <td>0</td>\n",
       "      <td>191.255070</td>\n",
       "      <td>...</td>\n",
       "      <td>0.000000</td>\n",
       "      <td>0.000000</td>\n",
       "      <td>0.000000</td>\n",
       "      <td>0.000</td>\n",
       "      <td>0.000</td>\n",
       "      <td>987.733</td>\n",
       "      <td>362.667</td>\n",
       "      <td>719.36</td>\n",
       "      <td>399.36</td>\n",
       "      <td>0</td>\n",
       "    </tr>\n",
       "  </tbody>\n",
       "</table>\n",
       "<p>5 rows × 37 columns</p>\n",
       "</div>"
      ],
      "text/plain": [
       "                  nearest_dist_head2head  nearest_cow_head2head  \\\n",
       "data/img0000.png              648.901134                      3   \n",
       "data/img0250.png                0.000000                      0   \n",
       "data/img0251.png                0.000000                      0   \n",
       "data/img0252.png                0.000000                      0   \n",
       "data/img0253.png                0.000000                      0   \n",
       "\n",
       "                  nearest_dist_head2bottom  nearest_cow_head2bottom  \\\n",
       "data/img0000.png                125.241924                        2   \n",
       "data/img0250.png                  0.000000                        0   \n",
       "data/img0251.png                  0.000000                        0   \n",
       "data/img0252.png                  0.000000                        0   \n",
       "data/img0253.png                  0.000000                        0   \n",
       "\n",
       "                  nearest_dist_head2body  nearest_cow_head2body  \\\n",
       "data/img0000.png              138.939669                      2   \n",
       "data/img0250.png                0.000000                      0   \n",
       "data/img0251.png                0.000000                      0   \n",
       "data/img0252.png                0.000000                      0   \n",
       "data/img0253.png                0.000000                      0   \n",
       "\n",
       "                  head_appearance  nearest_dist_bottom2head  \\\n",
       "data/img0000.png                1                574.188793   \n",
       "data/img0250.png                0                  0.000000   \n",
       "data/img0251.png                0                  0.000000   \n",
       "data/img0252.png                0                  0.000000   \n",
       "data/img0253.png                0                  0.000000   \n",
       "\n",
       "                  nearest_cow_bottom2head  nearest_dist_bottom2bottom  \\\n",
       "data/img0000.png                        3                  265.719328   \n",
       "data/img0250.png                        0                  190.097238   \n",
       "data/img0251.png                        0                  189.471139   \n",
       "data/img0252.png                        0                  186.080342   \n",
       "data/img0253.png                        0                  191.255070   \n",
       "\n",
       "                    ...     distance_Body_  velocity_Body_  \\\n",
       "data/img0000.png    ...           0.000000        0.000000   \n",
       "data/img0250.png    ...         493.559104      246.779552   \n",
       "data/img0251.png    ...           1.280000        0.426667   \n",
       "data/img0252.png    ...           0.000000        0.000000   \n",
       "data/img0253.png    ...           0.000000        0.000000   \n",
       "\n",
       "                  acceleration_Body_  Coordi_Nose_x  Coordi_Nose_y  \\\n",
       "data/img0000.png            0.000000        645.333        289.067   \n",
       "data/img0250.png          123.389776          0.000          0.000   \n",
       "data/img0251.png            0.142222          0.000          0.000   \n",
       "data/img0252.png            0.000000          0.000          0.000   \n",
       "data/img0253.png            0.000000          0.000          0.000   \n",
       "\n",
       "                  Coordi_Bottom_x  Coordi_Bottom_y  Coordi_Body_x  \\\n",
       "data/img0000.png           54.400          388.267         234.24   \n",
       "data/img0250.png          987.733          362.667         719.36   \n",
       "data/img0251.png          987.733          362.667         719.36   \n",
       "data/img0252.png          987.733          362.667         719.36   \n",
       "data/img0253.png          987.733          362.667         719.36   \n",
       "\n",
       "                  Coordi_Body_y  implying  \n",
       "data/img0000.png         307.20         1  \n",
       "data/img0250.png         398.08         0  \n",
       "data/img0251.png         399.36         0  \n",
       "data/img0252.png         399.36         0  \n",
       "data/img0253.png         399.36         0  \n",
       "\n",
       "[5 rows x 37 columns]"
      ]
     },
     "execution_count": 59,
     "metadata": {},
     "output_type": "execute_result"
    }
   ],
   "source": [
    "dataset['Cow_A'].head(5)"
   ]
  },
  {
   "cell_type": "code",
   "execution_count": null,
   "metadata": {},
   "outputs": [],
   "source": []
  },
  {
   "cell_type": "code",
   "execution_count": null,
   "metadata": {},
   "outputs": [],
   "source": []
  },
  {
   "cell_type": "code",
   "execution_count": 42,
   "metadata": {},
   "outputs": [],
   "source": [
    "for cow in cows:\n",
    "    dataset[cow].rename(columns={\n",
    "        'implying': 'implying_' + cow\n",
    "    }, inplace=True)"
   ]
  },
  {
   "cell_type": "code",
   "execution_count": null,
   "metadata": {},
   "outputs": [],
   "source": []
  },
  {
   "cell_type": "code",
   "execution_count": null,
   "metadata": {},
   "outputs": [],
   "source": []
  },
  {
   "cell_type": "markdown",
   "metadata": {},
   "source": [
    "# Remove unusable samples"
   ]
  },
  {
   "cell_type": "code",
   "execution_count": 60,
   "metadata": {},
   "outputs": [],
   "source": [
    "dataset_arranged = dict()\n",
    "for cow in cows:\n",
    "    desired_samples = list()\n",
    "    for index in range(len(dataset[cow].index)):\n",
    "        if (dataset[cow].iloc[index]['head_appearance'] != 0) or (dataset[cow].iloc[index]['bottom_appearance'] != 0) or (dataset[cow].iloc[index]['body_appearance'] != 0):\n",
    "            desired_samples.append(index)\n",
    "            \n",
    "    dataset_arranged[cow] = dataset[cow].iloc[desired_samples]"
   ]
  },
  {
   "cell_type": "code",
   "execution_count": 63,
   "metadata": {
    "scrolled": true
   },
   "outputs": [
    {
     "data": {
      "text/html": [
       "<div>\n",
       "<style scoped>\n",
       "    .dataframe tbody tr th:only-of-type {\n",
       "        vertical-align: middle;\n",
       "    }\n",
       "\n",
       "    .dataframe tbody tr th {\n",
       "        vertical-align: top;\n",
       "    }\n",
       "\n",
       "    .dataframe thead th {\n",
       "        text-align: right;\n",
       "    }\n",
       "</style>\n",
       "<table border=\"1\" class=\"dataframe\">\n",
       "  <thead>\n",
       "    <tr style=\"text-align: right;\">\n",
       "      <th></th>\n",
       "      <th>nearest_dist_head2head</th>\n",
       "      <th>nearest_cow_head2head</th>\n",
       "      <th>nearest_dist_head2bottom</th>\n",
       "      <th>nearest_cow_head2bottom</th>\n",
       "      <th>nearest_dist_head2body</th>\n",
       "      <th>nearest_cow_head2body</th>\n",
       "      <th>head_appearance</th>\n",
       "      <th>nearest_dist_bottom2head</th>\n",
       "      <th>nearest_cow_bottom2head</th>\n",
       "      <th>nearest_dist_bottom2bottom</th>\n",
       "      <th>...</th>\n",
       "      <th>distance_Body_</th>\n",
       "      <th>velocity_Body_</th>\n",
       "      <th>acceleration_Body_</th>\n",
       "      <th>Coordi_Nose_x</th>\n",
       "      <th>Coordi_Nose_y</th>\n",
       "      <th>Coordi_Bottom_x</th>\n",
       "      <th>Coordi_Bottom_y</th>\n",
       "      <th>Coordi_Body_x</th>\n",
       "      <th>Coordi_Body_y</th>\n",
       "      <th>implying</th>\n",
       "    </tr>\n",
       "  </thead>\n",
       "  <tbody>\n",
       "    <tr>\n",
       "      <th>data/img0000.png</th>\n",
       "      <td>648.901134</td>\n",
       "      <td>3</td>\n",
       "      <td>125.241924</td>\n",
       "      <td>2</td>\n",
       "      <td>138.939669</td>\n",
       "      <td>2</td>\n",
       "      <td>1</td>\n",
       "      <td>574.188793</td>\n",
       "      <td>3</td>\n",
       "      <td>265.719328</td>\n",
       "      <td>...</td>\n",
       "      <td>0.000000</td>\n",
       "      <td>0.000000</td>\n",
       "      <td>0.000000</td>\n",
       "      <td>645.333</td>\n",
       "      <td>289.067</td>\n",
       "      <td>54.400</td>\n",
       "      <td>388.267</td>\n",
       "      <td>234.24</td>\n",
       "      <td>307.20</td>\n",
       "      <td>1</td>\n",
       "    </tr>\n",
       "    <tr>\n",
       "      <th>data/img0250.png</th>\n",
       "      <td>0.000000</td>\n",
       "      <td>0</td>\n",
       "      <td>0.000000</td>\n",
       "      <td>0</td>\n",
       "      <td>0.000000</td>\n",
       "      <td>0</td>\n",
       "      <td>0</td>\n",
       "      <td>0.000000</td>\n",
       "      <td>0</td>\n",
       "      <td>190.097238</td>\n",
       "      <td>...</td>\n",
       "      <td>493.559104</td>\n",
       "      <td>246.779552</td>\n",
       "      <td>123.389776</td>\n",
       "      <td>0.000</td>\n",
       "      <td>0.000</td>\n",
       "      <td>987.733</td>\n",
       "      <td>362.667</td>\n",
       "      <td>719.36</td>\n",
       "      <td>398.08</td>\n",
       "      <td>0</td>\n",
       "    </tr>\n",
       "    <tr>\n",
       "      <th>data/img0251.png</th>\n",
       "      <td>0.000000</td>\n",
       "      <td>0</td>\n",
       "      <td>0.000000</td>\n",
       "      <td>0</td>\n",
       "      <td>0.000000</td>\n",
       "      <td>0</td>\n",
       "      <td>0</td>\n",
       "      <td>0.000000</td>\n",
       "      <td>0</td>\n",
       "      <td>189.471139</td>\n",
       "      <td>...</td>\n",
       "      <td>1.280000</td>\n",
       "      <td>0.426667</td>\n",
       "      <td>0.142222</td>\n",
       "      <td>0.000</td>\n",
       "      <td>0.000</td>\n",
       "      <td>987.733</td>\n",
       "      <td>362.667</td>\n",
       "      <td>719.36</td>\n",
       "      <td>399.36</td>\n",
       "      <td>0</td>\n",
       "    </tr>\n",
       "    <tr>\n",
       "      <th>data/img0252.png</th>\n",
       "      <td>0.000000</td>\n",
       "      <td>0</td>\n",
       "      <td>0.000000</td>\n",
       "      <td>0</td>\n",
       "      <td>0.000000</td>\n",
       "      <td>0</td>\n",
       "      <td>0</td>\n",
       "      <td>0.000000</td>\n",
       "      <td>0</td>\n",
       "      <td>186.080342</td>\n",
       "      <td>...</td>\n",
       "      <td>0.000000</td>\n",
       "      <td>0.000000</td>\n",
       "      <td>0.000000</td>\n",
       "      <td>0.000</td>\n",
       "      <td>0.000</td>\n",
       "      <td>987.733</td>\n",
       "      <td>362.667</td>\n",
       "      <td>719.36</td>\n",
       "      <td>399.36</td>\n",
       "      <td>0</td>\n",
       "    </tr>\n",
       "    <tr>\n",
       "      <th>data/img0253.png</th>\n",
       "      <td>0.000000</td>\n",
       "      <td>0</td>\n",
       "      <td>0.000000</td>\n",
       "      <td>0</td>\n",
       "      <td>0.000000</td>\n",
       "      <td>0</td>\n",
       "      <td>0</td>\n",
       "      <td>0.000000</td>\n",
       "      <td>0</td>\n",
       "      <td>191.255070</td>\n",
       "      <td>...</td>\n",
       "      <td>0.000000</td>\n",
       "      <td>0.000000</td>\n",
       "      <td>0.000000</td>\n",
       "      <td>0.000</td>\n",
       "      <td>0.000</td>\n",
       "      <td>987.733</td>\n",
       "      <td>362.667</td>\n",
       "      <td>719.36</td>\n",
       "      <td>399.36</td>\n",
       "      <td>0</td>\n",
       "    </tr>\n",
       "  </tbody>\n",
       "</table>\n",
       "<p>5 rows × 37 columns</p>\n",
       "</div>"
      ],
      "text/plain": [
       "                  nearest_dist_head2head  nearest_cow_head2head  \\\n",
       "data/img0000.png              648.901134                      3   \n",
       "data/img0250.png                0.000000                      0   \n",
       "data/img0251.png                0.000000                      0   \n",
       "data/img0252.png                0.000000                      0   \n",
       "data/img0253.png                0.000000                      0   \n",
       "\n",
       "                  nearest_dist_head2bottom  nearest_cow_head2bottom  \\\n",
       "data/img0000.png                125.241924                        2   \n",
       "data/img0250.png                  0.000000                        0   \n",
       "data/img0251.png                  0.000000                        0   \n",
       "data/img0252.png                  0.000000                        0   \n",
       "data/img0253.png                  0.000000                        0   \n",
       "\n",
       "                  nearest_dist_head2body  nearest_cow_head2body  \\\n",
       "data/img0000.png              138.939669                      2   \n",
       "data/img0250.png                0.000000                      0   \n",
       "data/img0251.png                0.000000                      0   \n",
       "data/img0252.png                0.000000                      0   \n",
       "data/img0253.png                0.000000                      0   \n",
       "\n",
       "                  head_appearance  nearest_dist_bottom2head  \\\n",
       "data/img0000.png                1                574.188793   \n",
       "data/img0250.png                0                  0.000000   \n",
       "data/img0251.png                0                  0.000000   \n",
       "data/img0252.png                0                  0.000000   \n",
       "data/img0253.png                0                  0.000000   \n",
       "\n",
       "                  nearest_cow_bottom2head  nearest_dist_bottom2bottom  \\\n",
       "data/img0000.png                        3                  265.719328   \n",
       "data/img0250.png                        0                  190.097238   \n",
       "data/img0251.png                        0                  189.471139   \n",
       "data/img0252.png                        0                  186.080342   \n",
       "data/img0253.png                        0                  191.255070   \n",
       "\n",
       "                    ...     distance_Body_  velocity_Body_  \\\n",
       "data/img0000.png    ...           0.000000        0.000000   \n",
       "data/img0250.png    ...         493.559104      246.779552   \n",
       "data/img0251.png    ...           1.280000        0.426667   \n",
       "data/img0252.png    ...           0.000000        0.000000   \n",
       "data/img0253.png    ...           0.000000        0.000000   \n",
       "\n",
       "                  acceleration_Body_  Coordi_Nose_x  Coordi_Nose_y  \\\n",
       "data/img0000.png            0.000000        645.333        289.067   \n",
       "data/img0250.png          123.389776          0.000          0.000   \n",
       "data/img0251.png            0.142222          0.000          0.000   \n",
       "data/img0252.png            0.000000          0.000          0.000   \n",
       "data/img0253.png            0.000000          0.000          0.000   \n",
       "\n",
       "                  Coordi_Bottom_x  Coordi_Bottom_y  Coordi_Body_x  \\\n",
       "data/img0000.png           54.400          388.267         234.24   \n",
       "data/img0250.png          987.733          362.667         719.36   \n",
       "data/img0251.png          987.733          362.667         719.36   \n",
       "data/img0252.png          987.733          362.667         719.36   \n",
       "data/img0253.png          987.733          362.667         719.36   \n",
       "\n",
       "                  Coordi_Body_y  implying  \n",
       "data/img0000.png         307.20         1  \n",
       "data/img0250.png         398.08         0  \n",
       "data/img0251.png         399.36         0  \n",
       "data/img0252.png         399.36         0  \n",
       "data/img0253.png         399.36         0  \n",
       "\n",
       "[5 rows x 37 columns]"
      ]
     },
     "execution_count": 63,
     "metadata": {},
     "output_type": "execute_result"
    }
   ],
   "source": [
    "dataset_arranged['Cow_A'].head(5)"
   ]
  },
  {
   "cell_type": "markdown",
   "metadata": {},
   "source": [
    "# Split data for modelling"
   ]
  },
  {
   "cell_type": "code",
   "execution_count": null,
   "metadata": {},
   "outputs": [],
   "source": [
    "X = dict()\n",
    "y = dict()\n",
    "for cow in cows:\n",
    "    X[cow] = dataset_arranged[cow].drop('implying', axis=1)\n",
    "    y[cow] = dataset_arranged[cow]['implying']"
   ]
  },
  {
   "cell_type": "code",
   "execution_count": null,
   "metadata": {},
   "outputs": [],
   "source": [
    "X_train = dict()\n",
    "X_test = dict()\n",
    "y_train = dict()\n",
    "y_test = dict()\n",
    "for cow in cows:\n",
    "    X_train[cow], X_test[cow], y_train[cow], y_test[cow] = train_test_split(X[cow], y[cow], test_size = 0.20)"
   ]
  },
  {
   "cell_type": "markdown",
   "metadata": {},
   "source": [
    "# Multiple Models"
   ]
  },
  {
   "cell_type": "markdown",
   "metadata": {},
   "source": [
    "### Step 1: Normalization"
   ]
  },
  {
   "cell_type": "code",
   "execution_count": 119,
   "metadata": {},
   "outputs": [
    {
     "name": "stderr",
     "output_type": "stream",
     "text": [
      "/anaconda3/lib/python3.6/site-packages/sklearn/preprocessing/data.py:625: DataConversionWarning: Data with input dtype int64, float64 were all converted to float64 by StandardScaler.\n",
      "  return self.partial_fit(X, y)\n",
      "/anaconda3/lib/python3.6/site-packages/ipykernel_launcher.py:5: DataConversionWarning: Data with input dtype int64, float64 were all converted to float64 by StandardScaler.\n",
      "  \"\"\"\n",
      "/anaconda3/lib/python3.6/site-packages/ipykernel_launcher.py:6: DataConversionWarning: Data with input dtype int64, float64 were all converted to float64 by StandardScaler.\n",
      "  \n",
      "/anaconda3/lib/python3.6/site-packages/sklearn/preprocessing/data.py:625: DataConversionWarning: Data with input dtype int64, float64 were all converted to float64 by StandardScaler.\n",
      "  return self.partial_fit(X, y)\n",
      "/anaconda3/lib/python3.6/site-packages/ipykernel_launcher.py:5: DataConversionWarning: Data with input dtype int64, float64 were all converted to float64 by StandardScaler.\n",
      "  \"\"\"\n",
      "/anaconda3/lib/python3.6/site-packages/ipykernel_launcher.py:6: DataConversionWarning: Data with input dtype int64, float64 were all converted to float64 by StandardScaler.\n",
      "  \n",
      "/anaconda3/lib/python3.6/site-packages/sklearn/preprocessing/data.py:625: DataConversionWarning: Data with input dtype int64, float64 were all converted to float64 by StandardScaler.\n",
      "  return self.partial_fit(X, y)\n",
      "/anaconda3/lib/python3.6/site-packages/ipykernel_launcher.py:5: DataConversionWarning: Data with input dtype int64, float64 were all converted to float64 by StandardScaler.\n",
      "  \"\"\"\n",
      "/anaconda3/lib/python3.6/site-packages/ipykernel_launcher.py:6: DataConversionWarning: Data with input dtype int64, float64 were all converted to float64 by StandardScaler.\n",
      "  \n"
     ]
    }
   ],
   "source": [
    "X_train_scaled = dict()\n",
    "X_test_scaled = dict()\n",
    "for cow in cows:\n",
    "    scaler = preprocessing.StandardScaler().fit(X_train[cow])\n",
    "    X_train_scaled[cow] = scaler.transform(X_train[cow])\n",
    "    X_test_scaled[cow] = scaler.transform(X_test[cow])"
   ]
  },
  {
   "cell_type": "markdown",
   "metadata": {},
   "source": [
    "### Step 2: Modelling"
   ]
  },
  {
   "cell_type": "code",
   "execution_count": 121,
   "metadata": {},
   "outputs": [],
   "source": [
    "C_range = [0.1, 1, 10, 100, 1000]\n",
    "gamma_range = [0.001, 0.0001]\n",
    "param_grid = dict(gamma=gamma_range, C=C_range)"
   ]
  },
  {
   "cell_type": "code",
   "execution_count": 122,
   "metadata": {},
   "outputs": [],
   "source": [
    "# GridSearch\n",
    "best_parameters = dict()\n",
    "svc = SVC(kernel='rbf')\n",
    "for cow in cow2model:\n",
    "    grid = GridSearchCV(svc, param_grid, cv=5)\n",
    "    grid.fit(X_train_scaled[cow], y_train[cow])\n",
    "    best_parameters[cow] = grid.best_params_"
   ]
  },
  {
   "cell_type": "code",
   "execution_count": 123,
   "metadata": {},
   "outputs": [],
   "source": [
    "# Specify cow to be modeled\n",
    "svclassifiers = dict()\n",
    "for cow in cow2model:\n",
    "    svclassifiers[cow] = SVC(kernel='rbf', C=best_parameters[cow]['C'], gamma=best_parameters[cow]['gamma'])  \n",
    "    svclassifiers[cow].fit(X_train_scaled[cow], y_train[cow])"
   ]
  },
  {
   "cell_type": "code",
   "execution_count": 124,
   "metadata": {},
   "outputs": [],
   "source": [
    "# Get predictions with unseen data\n",
    "y_pred = dict()\n",
    "for cow in cow2model:\n",
    "    y_pred[cow] = svclassifiers[cow].predict(X_test_scaled[cow])"
   ]
  },
  {
   "cell_type": "markdown",
   "metadata": {},
   "source": [
    "### Step 3: Evaluation"
   ]
  },
  {
   "cell_type": "code",
   "execution_count": 126,
   "metadata": {},
   "outputs": [
    {
     "name": "stdout",
     "output_type": "stream",
     "text": [
      "**********************************************************************\n",
      "Number of features: 36\n",
      "Training set:\n",
      "    Cow_A -> 1178 samples\n",
      "    Cow_B -> 1105 samples\n",
      "    Cow_C -> 1134 samples\n",
      "Testing set:\n",
      "    Cow_A -> 295 samples\n",
      "    Cow_B -> 277 samples\n",
      "    Cow_C -> 284 samples\n",
      "Type of Model: Multiple Models\n",
      "**********************************************************************\n",
      "\n",
      "Prediction results: Cow_A -----------------------------\n",
      "Confusion Matrix :\n",
      "[[174  16]\n",
      " [ 16  89]]\n",
      "Accuracy = 0.8915254237288136\n",
      "F1 score (binary) = 0.8476190476190476\n",
      "\n",
      "Prediction results: Cow_B -----------------------------\n",
      "Confusion Matrix :\n",
      "[[163  13]\n",
      " [ 23  78]]\n",
      "Accuracy = 0.8700361010830325\n",
      "F1 score (binary) = 0.8125\n",
      "\n",
      "Prediction results: Cow_C -----------------------------\n",
      "Confusion Matrix :\n",
      "[[177  13]\n",
      " [ 15  79]]\n",
      "Accuracy = 0.9014084507042254\n",
      "F1 score (binary) = 0.849462365591398\n",
      "\n"
     ]
    }
   ],
   "source": [
    "# # Configurations\n",
    "print(\"**********************************************************************\")\n",
    "print(\"Number of features:\", X_train_scaled['Cow_A'].shape[1])\n",
    "print(\"Training set:\")\n",
    "for cow in cow2model:\n",
    "    print(\"    \" + cow + \" -> \" + str(X_train_scaled[cow].shape[0]) + \" samples\")\n",
    "print(\"Testing set:\")\n",
    "for cow in cow2model:\n",
    "    print(\"    \" + cow + \" -> \" + str(X_test_scaled[cow].shape[0]) + \" samples\")\n",
    "print(\"Type of Model: Multiple Models\")\n",
    "print(\"**********************************************************************\\n\")\n",
    "# for cow in cow2model:\n",
    "#     print(cow, '-----------------------------------------')\n",
    "#     print(classification_report(sm_y_test[cow], sm_y_pred[cow]))\n",
    "    \n",
    "# # Optional\n",
    "for cow in cow2model:\n",
    "    print(\"Prediction results:\", cow, '-----------------------------')\n",
    "    print(\"Confusion Matrix :\")\n",
    "    print(confusion_matrix(y_test[cow], y_pred[cow]))\n",
    "    print('Accuracy =', accuracy_score(y_test[cow], y_pred[cow]))\n",
    "    print('F1 score (binary) =', f1_score(y_test[cow], y_pred[cow]))\n",
    "    print('')"
   ]
  },
  {
   "cell_type": "markdown",
   "metadata": {},
   "source": [
    "# Single Model"
   ]
  },
  {
   "cell_type": "markdown",
   "metadata": {},
   "source": [
    "### Step 1: Concat the training sets"
   ]
  },
  {
   "cell_type": "code",
   "execution_count": 83,
   "metadata": {},
   "outputs": [],
   "source": [
    "X2concat = list()\n",
    "y2concat = list()\n",
    "for cow in cows:\n",
    "    X2concat.append(X_train[cow])\n",
    "    y2concat.append(y_train[cow])\n",
    "sm_X_train = pd.concat(X2concat)\n",
    "sm_y_train = pd.concat(y2concat)\n",
    "\n",
    "# -- Define test set for single model\n",
    "sm_X_test = X_test\n",
    "sm_y_test = y_test"
   ]
  },
  {
   "cell_type": "markdown",
   "metadata": {},
   "source": [
    "### Step 2: Normalization"
   ]
  },
  {
   "cell_type": "code",
   "execution_count": 84,
   "metadata": {
    "scrolled": true
   },
   "outputs": [
    {
     "name": "stderr",
     "output_type": "stream",
     "text": [
      "/anaconda3/lib/python3.6/site-packages/sklearn/preprocessing/data.py:625: DataConversionWarning: Data with input dtype int64, float64 were all converted to float64 by StandardScaler.\n",
      "  return self.partial_fit(X, y)\n",
      "/anaconda3/lib/python3.6/site-packages/ipykernel_launcher.py:3: DataConversionWarning: Data with input dtype int64, float64 were all converted to float64 by StandardScaler.\n",
      "  This is separate from the ipykernel package so we can avoid doing imports until\n",
      "/anaconda3/lib/python3.6/site-packages/ipykernel_launcher.py:6: DataConversionWarning: Data with input dtype int64, float64 were all converted to float64 by StandardScaler.\n",
      "  \n",
      "/anaconda3/lib/python3.6/site-packages/ipykernel_launcher.py:6: DataConversionWarning: Data with input dtype int64, float64 were all converted to float64 by StandardScaler.\n",
      "  \n",
      "/anaconda3/lib/python3.6/site-packages/ipykernel_launcher.py:6: DataConversionWarning: Data with input dtype int64, float64 were all converted to float64 by StandardScaler.\n",
      "  \n"
     ]
    }
   ],
   "source": [
    "# 2nd: Normalization\n",
    "scaler = preprocessing.StandardScaler().fit(sm_X_train)\n",
    "sm_X_train_scaled = scaler.transform(sm_X_train)\n",
    "sm_X_test_scaled = dict()\n",
    "for cow in cows:\n",
    "    sm_X_test_scaled[cow] = scaler.transform(sm_X_test[cow])"
   ]
  },
  {
   "cell_type": "markdown",
   "metadata": {},
   "source": [
    "### Step 3: Modelling"
   ]
  },
  {
   "cell_type": "code",
   "execution_count": 91,
   "metadata": {},
   "outputs": [],
   "source": [
    "C_range = [0.1, 1, 10, 100, 1000]\n",
    "gamma_range = [0.001, 0.0001]\n",
    "param_grid = dict(gamma=gamma_range, C=C_range)"
   ]
  },
  {
   "cell_type": "code",
   "execution_count": 92,
   "metadata": {},
   "outputs": [],
   "source": [
    "# GridSearch\n",
    "best_parameters = dict()\n",
    "svc = SVC(kernel='rbf')\n",
    "grid = GridSearchCV(svc, param_grid, cv=5)\n",
    "grid.fit(sm_X_train_scaled, sm_y_train)\n",
    "best_parameters = grid.best_params_"
   ]
  },
  {
   "cell_type": "code",
   "execution_count": 93,
   "metadata": {},
   "outputs": [
    {
     "data": {
      "text/plain": [
       "{'C': 1000, 'gamma': 0.001}"
      ]
     },
     "execution_count": 93,
     "metadata": {},
     "output_type": "execute_result"
    }
   ],
   "source": [
    "# Show best params\n",
    "best_parameters"
   ]
  },
  {
   "cell_type": "code",
   "execution_count": 94,
   "metadata": {},
   "outputs": [
    {
     "data": {
      "text/plain": [
       "SVC(C=1000, cache_size=200, class_weight=None, coef0=0.0,\n",
       "  decision_function_shape='ovr', degree=3, gamma=0.001, kernel='rbf',\n",
       "  max_iter=-1, probability=False, random_state=None, shrinking=True,\n",
       "  tol=0.001, verbose=False)"
      ]
     },
     "execution_count": 94,
     "metadata": {},
     "output_type": "execute_result"
    }
   ],
   "source": [
    "# Model\n",
    "classifier = SVC(kernel='rbf', C=best_parameters['C'], gamma=best_parameters['gamma'])  \n",
    "classifier.fit(sm_X_train_scaled, sm_y_train)  "
   ]
  },
  {
   "cell_type": "code",
   "execution_count": 100,
   "metadata": {},
   "outputs": [],
   "source": [
    "# Get predictions with unseen data\n",
    "sm_y_pred = dict()\n",
    "for cow in cow2model:\n",
    "    sm_y_pred[cow] = classifier.predict(sm_X_test_scaled[cow])"
   ]
  },
  {
   "cell_type": "markdown",
   "metadata": {},
   "source": [
    "### Step 4: Evaluation"
   ]
  },
  {
   "cell_type": "code",
   "execution_count": 118,
   "metadata": {},
   "outputs": [
    {
     "name": "stdout",
     "output_type": "stream",
     "text": [
      "**********************************************************************\n",
      "Number of features: 36\n",
      "Training set: 3417 samples\n",
      "Testing set:\n",
      "    Cow_A -> 295 samples\n",
      "    Cow_B -> 277 samples\n",
      "    Cow_C -> 284 samples\n",
      "Model: SVC(C=1000, cache_size=200, class_weight=None, coef0=0.0,\n",
      "  decision_function_shape='ovr', degree=3, gamma=0.001, kernel='rbf',\n",
      "  max_iter=-1, probability=False, random_state=None, shrinking=True,\n",
      "  tol=0.001, verbose=False)\n",
      "Type of Model: Single Model\n",
      "**********************************************************************\n",
      "\n",
      "Prediction results: Cow_A -----------------------------\n",
      "Confusion Matrix :\n",
      "[[169  21]\n",
      " [ 18  87]]\n",
      "Accuracy = 0.8677966101694915\n",
      "F1 score (binary) = 0.8169014084507044\n",
      "\n",
      "Prediction results: Cow_B -----------------------------\n",
      "Confusion Matrix :\n",
      "[[163  13]\n",
      " [ 31  70]]\n",
      "Accuracy = 0.8411552346570397\n",
      "F1 score (binary) = 0.7608695652173914\n",
      "\n",
      "Prediction results: Cow_C -----------------------------\n",
      "Confusion Matrix :\n",
      "[[170  20]\n",
      " [ 11  83]]\n",
      "Accuracy = 0.8908450704225352\n",
      "F1 score (binary) = 0.8426395939086295\n",
      "\n"
     ]
    }
   ],
   "source": [
    "# # Configurations\n",
    "print(\"**********************************************************************\")\n",
    "print(\"Number of features:\", sm_X_train_scaled.shape[1])\n",
    "print(\"Training set:\", sm_X_train_scaled.shape[0], \"samples\")\n",
    "print(\"Testing set:\")\n",
    "for cow in cow2model:\n",
    "    print(\"    \" + cow + \" -> \" + str(sm_X_test_scaled[cow].shape[0]) + \" samples\")\n",
    "print(\"Model:\", classifier)\n",
    "print(\"Type of Model: Single Model\")\n",
    "print(\"**********************************************************************\\n\")\n",
    "# for cow in cow2model:\n",
    "#     print(cow, '-----------------------------------------')\n",
    "#     print(classification_report(sm_y_test[cow], sm_y_pred[cow]))\n",
    "    \n",
    "# # Optional\n",
    "for cow in cow2model:\n",
    "    print(\"Prediction results:\", cow, '-----------------------------')\n",
    "    print(\"Confusion Matrix :\")\n",
    "    print(confusion_matrix(sm_y_test[cow], sm_y_pred[cow]))\n",
    "    print('Accuracy =', accuracy_score(sm_y_test[cow], sm_y_pred[cow]))\n",
    "    print('F1 score (binary) =', f1_score(sm_y_test[cow], sm_y_pred[cow]))\n",
    "    print('')"
   ]
  },
  {
   "cell_type": "markdown",
   "metadata": {},
   "source": [
    "### Special step: Implementation of k-fold cross validation"
   ]
  },
  {
   "cell_type": "code",
   "execution_count": null,
   "metadata": {},
   "outputs": [],
   "source": [
    "kf = KFold(n_splits=5)\n",
    "for cow in cow2model:\n",
    "    print(cow, '----------------------')\n",
    "    for train_index, test_index in kf.split(X_scaled):\n",
    "        X_train, X_test = X_scaled[cow][train_index], X_scaled[cow][test_index]\n",
    "        y_train, y_test = y[cow][train_index], y[cow][test_index]\n",
    "        \n",
    "        clf = SVC(kernel='rbf', C=best_parameters[cow]['C'], gamma=best_parameters[cow]['gamma'])\n",
    "        clf.fit(X_train, y_train)\n",
    "        \n",
    "        y_pred = clf.predict(X_test)\n",
    "        \n",
    "        print(classification_report(y_test,y_pred))"
   ]
  },
  {
   "cell_type": "markdown",
   "metadata": {},
   "source": [
    "# Count heat-implying events"
   ]
  },
  {
   "cell_type": "code",
   "execution_count": 56,
   "metadata": {},
   "outputs": [
    {
     "name": "stdout",
     "output_type": "stream",
     "text": [
      "Cow_A : 580 (2000 images)\n",
      "Cow_B : 488 (2000 images)\n",
      "Cow_C : 485 (2000 images)\n",
      "All heat implying events: 1553\n"
     ]
    }
   ],
   "source": [
    "all_heat_implies = 0\n",
    "for cow in cows:\n",
    "    specified_cow_implies = 0\n",
    "    for imply in y[cow]:\n",
    "        if imply == 1:\n",
    "            specified_cow_implies += 1\n",
    "    print(cow, ':', specified_cow_implies, \"(2000 images)\")\n",
    "    all_heat_implies += specified_cow_implies\n",
    "print('All heat implying events:', all_heat_implies)"
   ]
  },
  {
   "cell_type": "code",
   "execution_count": null,
   "metadata": {},
   "outputs": [],
   "source": []
  }
 ],
 "metadata": {
  "kernelspec": {
   "display_name": "Python 3",
   "language": "python",
   "name": "python3"
  },
  "language_info": {
   "codemirror_mode": {
    "name": "ipython",
    "version": 3
   },
   "file_extension": ".py",
   "mimetype": "text/x-python",
   "name": "python",
   "nbconvert_exporter": "python",
   "pygments_lexer": "ipython3",
   "version": "3.6.8"
  }
 },
 "nbformat": 4,
 "nbformat_minor": 2
}
